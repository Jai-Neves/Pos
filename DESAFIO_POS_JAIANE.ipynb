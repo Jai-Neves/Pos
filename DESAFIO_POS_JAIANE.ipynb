{
  "cells": [
    {
      "cell_type": "markdown",
      "metadata": {
        "id": "view-in-github",
        "colab_type": "text"
      },
      "source": [
        "<a href=\"https://colab.research.google.com/github/Jai-Neves/Pos/blob/main/DESAFIO_POS_JAIANE.ipynb\" target=\"_parent\"><img src=\"https://colab.research.google.com/assets/colab-badge.svg\" alt=\"Open In Colab\"/></a>"
      ]
    },
    {
      "cell_type": "markdown",
      "metadata": {
        "id": "FiFDwaJ_DClx"
      },
      "source": [
        "# ATIVIDADE AVALIATIVA\n",
        "\n",
        "ESTATÍSTICA PARA BIG DATA"
      ]
    },
    {
      "cell_type": "markdown",
      "metadata": {
        "id": "dku2fzaEvBYG"
      },
      "source": [
        "DEPRESSÃO E HÁBITOS SAUDÁVEIS\n",
        "\n",
        "O transtorno depressivo representa um grande problema de saúde pública e é apontado como uma das principais causas de doenças e debilitações segundo a Organização Mundial da Saúde (OMS). A depressão resulta de uma interação complexa de fatores sociais, psicológicos e biológicos e, embora o acesso a diagnósticos e tratamentos esteja aumentando, muitos ainda não possuem acesso ao controle adequado dos sintomas depressivos.\n",
        "\n",
        "Neste desafio, utilizaremos dados de uma pesquisa realizada anualmente nos Estados Unidos para avaliar qual o perfil de indivíduos (adultos maiores de 18 anos) com sintomas depressivos nos EUA no período de 2005-2006.\n"
      ]
    },
    {
      "cell_type": "markdown",
      "metadata": {
        "id": "EJMrnDAXvBYH"
      },
      "source": [
        "NATIONAL HEALTH AND NUTRITION EXAMINATION SURVEY\n",
        "\n",
        "O National Health and Nutrition Examination Survey (NHANES) é uma pesquisa anual conduzida pelo National Center for Health Statistics (NCHS) do Centro de Controle e Prevenção de Doenças (Centers for Disease Control - CDC) para avaliar a saúde e nutrição de adultos e crianças dos Estados Unidos. Dados coletados incluem questões demográficas, socioeconômicas, dietéticas e relacionadas à saúde, com o componente de exame contendo medidas médicas, odontológicas, fisiológicas e exames laboratoriais.\n",
        "\n",
        "A pesquisa examina uma amostra de cerca de 5.000 pessoas a cada ano, selecionada à partir de amostragem complexa a fim de selecionar uma amostra representativa da população civil não institucionalizada dos EUA. \n",
        "Sendo assim, as análises utilizando este estudo devem ser realizadas utilizando técnicas e ferramentas que levem em conta a amostragem complexa.\n",
        "\n",
        "Neste desafio, no entanto, iremos assumir que os dados foram obtidos usando uma amostra aleatória da população de interesse e utilizaremos técnicas e ferramentas de análise usuais para amostras aleatórias para fins didáticos.\n"
      ]
    },
    {
      "cell_type": "markdown",
      "metadata": {
        "id": "IygyhoZSvBYI"
      },
      "source": [
        "# A BASE DE DADOS"
      ]
    },
    {
      "cell_type": "markdown",
      "metadata": {
        "id": "3ZUIK1nKvBYI"
      },
      "source": [
        "DEMO_PHQ.csv: banco de dados contendo 5334 observações de adultos pesquisados no NHANES 2005-2006"
      ]
    },
    {
      "cell_type": "markdown",
      "metadata": {
        "id": "nZ9Y0pO5vBYJ"
      },
      "source": [
        "❌ PATIENT HEALTH QUESTIONNAIRE-9 (PHQ-9)\n",
        "\n",
        "O Patient Health Questionnaire-9 (PHQ-9) é um instrumento utilizado para avaliar o grau de depressão em pacientes. O questionário consiste de 9 itens em que os respondentes indicam a frequência. \n",
        "\n",
        "PERGUNTAS:\n",
        "\n",
        "“Nas últimas 2 semanas, com que frequência você ficou incomodado por algum dos problemas a seguir?” \n",
        "\n",
        "DPQ010 - Pouco interesse ou pouco prazer em fazer as coisas\n",
        "\n",
        "DPQ020 - Se sentiu para baixo, deprimido(a) ou sem perspectiva\n",
        "\n",
        "DPQ030 - Dificuldade para pegar no sono ou permanecer dormindo ou dormiu mais do que o costume\n",
        "\n",
        "DPQ040 - Se sentiu cansado(a) ou com pouca energia\n",
        "\n",
        "DPQ050 - Falta de apetite ou comeu demais\n",
        "\n",
        "DPQ060 - Se sentiu mal consigo mesmo(a) ou achou que é um fracasso ou que decepcionou sua família ou a você mesmo(a)\n",
        "\n",
        "DPQ070 - Dificuldade para se concentrar nas coisas (como ler o jornal ou ver televisão)\n",
        "\n",
        "DPQ080 - Teve lentidão para se movimentar ou falar (a ponto de outras pessoas perceberem), ou ao contrário, esteve tão agitado(a) que você ficava andando de um lado para o outro mais do que costume\n",
        "\n",
        "DPQ090 - Pensou em se ferir de alguma maneira ou que seria melhor estar morto(a)\n",
        "\n",
        "\n",
        "POSSÍVEIS RESPOSTAS: \n",
        "\n",
        "0 = “nenhuma vez”, \n",
        "\n",
        "1 = “menos de uma semana” \n",
        "\n",
        "2 = “uma semana ou mais” \n",
        "\n",
        "3 = “quase todos os dias”\n",
        "\n",
        "7 = Se recusou a responder\n",
        "\n",
        "9 = Não sabe\n",
        "\n"
      ]
    },
    {
      "cell_type": "markdown",
      "metadata": {
        "id": "HxEOwGjhvBYK"
      },
      "source": [
        "❌ RIAGENDR - Gênero \n",
        "\n",
        "1 = Masculino\n",
        "\n",
        "2 = Feminino"
      ]
    },
    {
      "cell_type": "markdown",
      "metadata": {
        "id": "VEWusOlLvBYL"
      },
      "source": [
        "❌ RIDAGEYR - Idade em anos"
      ]
    },
    {
      "cell_type": "markdown",
      "metadata": {
        "id": "xZPjlbiBvBYL"
      },
      "source": [
        "❌RIDRETH1 - Raça/Etnia \n",
        "\n",
        "1 = Americano / Mexicano\n",
        "\n",
        "2 = Latino\n",
        "\n",
        "3 = Brancos não latinos\n",
        "\n",
        "4 = Pretos não latinos\n",
        "\n",
        "5 = Outros"
      ]
    },
    {
      "cell_type": "markdown",
      "metadata": {
        "id": "l5EgAHVZvBYM"
      },
      "source": [
        "❌ DMDEDUC - Escolaridade \n",
        "\n",
        "1 = Menor que 9o ano\n",
        "\n",
        "2 = 9-12o ano\n",
        "\n",
        "3 = Ensino médio\n",
        "\n",
        "4 = Ensino superior incompleto\n",
        "\n",
        "5 = Superior completo ou maior\n",
        "\n",
        "7 = Se recusou a responder\n",
        "\n",
        "9 = Não sabe"
      ]
    },
    {
      "cell_type": "markdown",
      "metadata": {
        "id": "soXXEVLTvBYM"
      },
      "source": [
        "❌ INDFMINC - Renda anual familiar (US$) \n",
        "\n",
        "1 = 0-4.999\n",
        "\n",
        "2 - 5.000-9.999\n",
        "\n",
        "3 = 10.000-14.999\n",
        "\n",
        "4 = 15.000-19.999\n",
        "\n",
        "5 = 20.000-24.999\n",
        "\n",
        "6 = 25.000-34.999\n",
        "\n",
        "7 = 35.000-44.999\n",
        "\n",
        "8 = 45.000-54.999\n",
        "\n",
        "9 = 55.000-64.999\n",
        "\n",
        "10 = 65.000-74.999\n",
        "\n",
        "11 = 75.000-84.999\n",
        "\n",
        "12 = 85.000-94.999\n",
        "\n",
        "13 = Maior que 95.000\n",
        "\n",
        "77 = Se recusou a responder\n",
        "\n",
        "99 = Não sabe"
      ]
    },
    {
      "cell_type": "markdown",
      "metadata": {
        "id": "WQnlX1ZTvBYN"
      },
      "source": [
        "# ETAPAS A SEREM REALIZADAS"
      ]
    },
    {
      "cell_type": "markdown",
      "metadata": {
        "id": "kr5c32-XvBYN"
      },
      "source": [
        "# ETAPA 1 - TRATAMENTO DOS DADOS"
      ]
    },
    {
      "cell_type": "markdown",
      "metadata": {
        "id": "sm-sAb18vBYO"
      },
      "source": [
        "1.\tFaça a leitura dos bancos de dados e faça o tratamento que julgar necessário para as variáveis.\n",
        "\n",
        "SUGESTÕES:\n",
        "- nas variáveis DPQ0X0 e DMDEDUC substituir as categorias 7 e 9 por missing;\n",
        "- na variável INDFMINC substituir com o ponto médio de cada categoria prosseguindo a análise desta variável como uma variável quantitativa;\n",
        "\n",
        "\n",
        "Verifique se o percentual de missing está abaixo de 10% para todas as variáveis. Se estiver abaixo não precisa fazer nenhum tratamento para os casos faltantes. Se estiver acima, substituir pela média ou moda."
      ]
    },
    {
      "cell_type": "markdown",
      "metadata": {
        "id": "kqjpYP-0vBYP"
      },
      "source": [
        "2.\tCrie a variável phq9 - escore Patient Health Questionnaire-9 como a soma das variáveis DPQ010 a DPQ090"
      ]
    },
    {
      "cell_type": "markdown",
      "metadata": {
        "id": "pJIHPO8CvBYP"
      },
      "source": [
        "3.\tCrie a variável phq_grp - \"grupo de sintomas de depressão\" que assume \n",
        "\n",
        "0 (“sem sintomas”) se phq9 < 5, \n",
        "\n",
        "1 (“sintomas leves”) se 5 <= phq9 < 10, \n",
        "\n",
        "2 (“sintomas moderados e severos”) se phq9 >= 10"
      ]
    },
    {
      "cell_type": "markdown",
      "metadata": {
        "id": "OzUOM-OnvBYP"
      },
      "source": [
        "++ Opcional nessa etapa: renomear as variáveis"
      ]
    },
    {
      "cell_type": "markdown",
      "metadata": {
        "id": "s18b9ZfPvBYQ"
      },
      "source": [
        "# ETAPA 2 - EDA: Análise Univariada"
      ]
    },
    {
      "cell_type": "markdown",
      "metadata": {
        "id": "X3pHWwFDvBYQ"
      },
      "source": [
        "1. Apresente e comente as medidas resumo das variáveis quantitativas: \"RIDAGEYR (IDADE)\", \"INDFMINC (SALARIO)\", \"phq9 (VARIÁVEL CRIADA)\"\n",
        "\n",
        "++ Não esqueça de comentar as tendências e as suas percepções sobre os dados."
      ]
    },
    {
      "cell_type": "code",
      "execution_count": null,
      "metadata": {
        "id": "YigfH5X-vBYQ"
      },
      "outputs": [],
      "source": [
        "# SUGESTÃO: ...describe().round(2)"
      ]
    },
    {
      "cell_type": "markdown",
      "metadata": {
        "id": "8E4jpUbpvBYS"
      },
      "source": [
        "count (contagem), mean (média), std(desvio padrão), min (menor valor observado), 25% (quartil 1), 50% (mediana), 75% (quartil 3), max (maior valor observado)"
      ]
    },
    {
      "cell_type": "markdown",
      "metadata": {
        "id": "BuWUFgcRvBYS"
      },
      "source": [
        "2. Frequencias das variáveis qualitativas: \"RIAGENDR(GENERO)\",\"RIDRETH1 (ETNIA)\" , \"DMDEDUC(ESCOLARIDADE)' , \"phq_grp2 (VARIÁVEL CRIADA)\"\n",
        "\n",
        "++ pode ser em porcentagem ou contagem\n",
        "\n",
        "++ pode ser apresentado em uma tabela só ou uma tabela para cada variável."
      ]
    },
    {
      "cell_type": "markdown",
      "metadata": {
        "id": "a7-KTLJqvBYS"
      },
      "source": [
        "3. Construa alguns gráficos de colunas e comente-os, quanto as distribuições. \n",
        "\n",
        "++ Não esqueça de comentar as tendências e as suas percepções sobre os dados."
      ]
    },
    {
      "cell_type": "markdown",
      "metadata": {
        "id": "sMYPVhm5vBYT"
      },
      "source": [
        "# ETAPA 3 - EDA: Análise bivariada"
      ]
    },
    {
      "cell_type": "markdown",
      "metadata": {
        "id": "UzATUBfIvBYT"
      },
      "source": [
        "Será  feita uma análise bivariada de sintomas de depressão ( phq_grp) com as características dos entrevistados (gênero, idade, etnia, escolaridade e  renda anual).  \n",
        "O objetivo é descrever o perfil com maiores incidências de sintomas de depressão."
      ]
    },
    {
      "cell_type": "markdown",
      "metadata": {
        "id": "g5qZEKjsvBYT"
      },
      "source": [
        "O que precisa ter:\n",
        "\n",
        "GRÁFICOS DE COLUNAS: \n",
        "\n",
        "1- GRUPO DE SINTOMA DE DEPRESSÃO X GENERO\n",
        "\n",
        "2 - GRUPO DE SINTOMA DE DEPRESSÃO X ETNIA\n",
        "\n",
        "3 - GRUPO DE SINTOMA DE DEPRESSÃO X ESCOLARIDADE\n",
        "\n",
        "BOX-PLOTS: \n",
        "\n",
        "1 - GRUPO DE SINTOMA DE DEPRESSÃO X IDADE\n",
        "\n",
        "2 - GRUPO DE SINTOMA DE DEPRESSÃO X RENDA\n",
        "\n",
        "++ você também pode juntar mais informações nos gráficos como por exemplo: grupo de sintoma de depressão X genero X escolaridade, grupo de sintoma de depressão X idade X renda entre outros."
      ]
    },
    {
      "cell_type": "markdown",
      "metadata": {
        "id": "IQQgjjdAvBYT"
      },
      "source": [
        "## ETAPA 4 -  TESTE DE HIPÓTESES"
      ]
    },
    {
      "cell_type": "markdown",
      "metadata": {
        "id": "JDR_t9SGvBYT"
      },
      "source": [
        "Suspeita-se que, das características demográficas apontadas na análise bivariada analisadas, a renda é aquela que apresenta diferença estatistica mais significativas para a frequência de sintomas de depressão.\n",
        "\n",
        "Visualmente você também observou essa tendência?\n",
        "\n",
        "Faça um teste de hipóteses adequado para averiguar se essa tendencia é estatísticamente significante ou não. "
      ]
    },
    {
      "cell_type": "code",
      "execution_count": null,
      "metadata": {
        "id": "NpKD0JtuvBYT"
      },
      "outputs": [],
      "source": [
        "import pandas as pd\n",
        "import numpy as np\n",
        "import matplotlib.pyplot as plt\n",
        "import matplotlib.ticker as mtick\n",
        "import seaborn as sns\n",
        "import sys\n",
        "from scipy.stats import chi2_contingency\n",
        "%matplotlib inline"
      ]
    },
    {
      "cell_type": "code",
      "source": [
        "from google.colab import files\n",
        "\n",
        "uploaded = files.upload()\n",
        "\n",
        "for fn in uploaded.keys():\n",
        "  print('Arquivo \"{name}\" importado pelo usuário com tamanho de {length} bytes'.format(name=fn, length=len(uploaded[fn])))"
      ],
      "metadata": {
        "colab": {
          "resources": {
            "http://localhost:8080/nbextensions/google.colab/files.js": {
              "data": "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",
              "ok": true,
              "headers": [
                [
                  "content-type",
                  "application/javascript"
                ]
              ],
              "status": 200,
              "status_text": ""
            }
          },
          "base_uri": "https://localhost:8080/",
          "height": 90
        },
        "id": "bcU596sTuwcO",
        "outputId": "ce8da21d-d5fa-4c41-d703-9acb26448c38"
      },
      "execution_count": null,
      "outputs": [
        {
          "output_type": "display_data",
          "data": {
            "text/plain": [
              "<IPython.core.display.HTML object>"
            ],
            "text/html": [
              "\n",
              "     <input type=\"file\" id=\"files-71360b58-d552-4abe-815f-2e44a9319c3f\" name=\"files[]\" multiple disabled\n",
              "        style=\"border:none\" />\n",
              "     <output id=\"result-71360b58-d552-4abe-815f-2e44a9319c3f\">\n",
              "      Upload widget is only available when the cell has been executed in the\n",
              "      current browser session. Please rerun this cell to enable.\n",
              "      </output>\n",
              "      <script src=\"/nbextensions/google.colab/files.js\"></script> "
            ]
          },
          "metadata": {}
        },
        {
          "output_type": "stream",
          "name": "stdout",
          "text": [
            "Saving DEMO_PHQ.csv to DEMO_PHQ.csv\n",
            "Arquivo \"DEMO_PHQ.csv\" importado pelo usuário com tamanho de 192904 bytes\n"
          ]
        }
      ]
    },
    {
      "cell_type": "code",
      "source": [
        "df = pd.read_csv('DEMO_PHQ.csv',index_col=0)"
      ],
      "metadata": {
        "id": "qri2_HFouzqz"
      },
      "execution_count": null,
      "outputs": []
    },
    {
      "cell_type": "code",
      "source": [
        "df.head()"
      ],
      "metadata": {
        "colab": {
          "base_uri": "https://localhost:8080/",
          "height": 235
        },
        "id": "L9o8Rzoau53x",
        "outputId": "ab633b2c-00f7-4053-b35f-b2ef4837b1be"
      },
      "execution_count": null,
      "outputs": [
        {
          "output_type": "execute_result",
          "data": {
            "text/plain": [
              "       DPQ010  DPQ020  DPQ030  DPQ040  DPQ050  DPQ060  DPQ070  DPQ080  DPQ090  \\\n",
              "SEQN                                                                            \n",
              "31130     NaN     NaN     NaN     NaN     NaN     NaN     NaN     NaN     NaN   \n",
              "31131     0.0     0.0     0.0     0.0     0.0     0.0     0.0     0.0     0.0   \n",
              "31132     0.0     0.0     0.0     0.0     0.0     0.0     0.0     0.0     0.0   \n",
              "31134     0.0     0.0     0.0     0.0     0.0     0.0     0.0     0.0     0.0   \n",
              "31139     0.0     0.0     0.0     0.0     3.0     1.0     0.0     0.0     0.0   \n",
              "\n",
              "       RIAGENDR  RIDAGEYR  RIDRETH1  DMDEDUC  INDFMINC  \n",
              "SEQN                                                    \n",
              "31130         2        85         3        4       4.0  \n",
              "31131         2        44         4        4      11.0  \n",
              "31132         1        70         3        5      11.0  \n",
              "31134         1        73         3        3      12.0  \n",
              "31139         2        18         2        3      11.0  "
            ],
            "text/html": [
              "\n",
              "  <div id=\"df-894ffaf0-f52e-42b3-8807-3cf4220f0006\">\n",
              "    <div class=\"colab-df-container\">\n",
              "      <div>\n",
              "<style scoped>\n",
              "    .dataframe tbody tr th:only-of-type {\n",
              "        vertical-align: middle;\n",
              "    }\n",
              "\n",
              "    .dataframe tbody tr th {\n",
              "        vertical-align: top;\n",
              "    }\n",
              "\n",
              "    .dataframe thead th {\n",
              "        text-align: right;\n",
              "    }\n",
              "</style>\n",
              "<table border=\"1\" class=\"dataframe\">\n",
              "  <thead>\n",
              "    <tr style=\"text-align: right;\">\n",
              "      <th></th>\n",
              "      <th>DPQ010</th>\n",
              "      <th>DPQ020</th>\n",
              "      <th>DPQ030</th>\n",
              "      <th>DPQ040</th>\n",
              "      <th>DPQ050</th>\n",
              "      <th>DPQ060</th>\n",
              "      <th>DPQ070</th>\n",
              "      <th>DPQ080</th>\n",
              "      <th>DPQ090</th>\n",
              "      <th>RIAGENDR</th>\n",
              "      <th>RIDAGEYR</th>\n",
              "      <th>RIDRETH1</th>\n",
              "      <th>DMDEDUC</th>\n",
              "      <th>INDFMINC</th>\n",
              "    </tr>\n",
              "    <tr>\n",
              "      <th>SEQN</th>\n",
              "      <th></th>\n",
              "      <th></th>\n",
              "      <th></th>\n",
              "      <th></th>\n",
              "      <th></th>\n",
              "      <th></th>\n",
              "      <th></th>\n",
              "      <th></th>\n",
              "      <th></th>\n",
              "      <th></th>\n",
              "      <th></th>\n",
              "      <th></th>\n",
              "      <th></th>\n",
              "      <th></th>\n",
              "    </tr>\n",
              "  </thead>\n",
              "  <tbody>\n",
              "    <tr>\n",
              "      <th>31130</th>\n",
              "      <td>NaN</td>\n",
              "      <td>NaN</td>\n",
              "      <td>NaN</td>\n",
              "      <td>NaN</td>\n",
              "      <td>NaN</td>\n",
              "      <td>NaN</td>\n",
              "      <td>NaN</td>\n",
              "      <td>NaN</td>\n",
              "      <td>NaN</td>\n",
              "      <td>2</td>\n",
              "      <td>85</td>\n",
              "      <td>3</td>\n",
              "      <td>4</td>\n",
              "      <td>4.0</td>\n",
              "    </tr>\n",
              "    <tr>\n",
              "      <th>31131</th>\n",
              "      <td>0.0</td>\n",
              "      <td>0.0</td>\n",
              "      <td>0.0</td>\n",
              "      <td>0.0</td>\n",
              "      <td>0.0</td>\n",
              "      <td>0.0</td>\n",
              "      <td>0.0</td>\n",
              "      <td>0.0</td>\n",
              "      <td>0.0</td>\n",
              "      <td>2</td>\n",
              "      <td>44</td>\n",
              "      <td>4</td>\n",
              "      <td>4</td>\n",
              "      <td>11.0</td>\n",
              "    </tr>\n",
              "    <tr>\n",
              "      <th>31132</th>\n",
              "      <td>0.0</td>\n",
              "      <td>0.0</td>\n",
              "      <td>0.0</td>\n",
              "      <td>0.0</td>\n",
              "      <td>0.0</td>\n",
              "      <td>0.0</td>\n",
              "      <td>0.0</td>\n",
              "      <td>0.0</td>\n",
              "      <td>0.0</td>\n",
              "      <td>1</td>\n",
              "      <td>70</td>\n",
              "      <td>3</td>\n",
              "      <td>5</td>\n",
              "      <td>11.0</td>\n",
              "    </tr>\n",
              "    <tr>\n",
              "      <th>31134</th>\n",
              "      <td>0.0</td>\n",
              "      <td>0.0</td>\n",
              "      <td>0.0</td>\n",
              "      <td>0.0</td>\n",
              "      <td>0.0</td>\n",
              "      <td>0.0</td>\n",
              "      <td>0.0</td>\n",
              "      <td>0.0</td>\n",
              "      <td>0.0</td>\n",
              "      <td>1</td>\n",
              "      <td>73</td>\n",
              "      <td>3</td>\n",
              "      <td>3</td>\n",
              "      <td>12.0</td>\n",
              "    </tr>\n",
              "    <tr>\n",
              "      <th>31139</th>\n",
              "      <td>0.0</td>\n",
              "      <td>0.0</td>\n",
              "      <td>0.0</td>\n",
              "      <td>0.0</td>\n",
              "      <td>3.0</td>\n",
              "      <td>1.0</td>\n",
              "      <td>0.0</td>\n",
              "      <td>0.0</td>\n",
              "      <td>0.0</td>\n",
              "      <td>2</td>\n",
              "      <td>18</td>\n",
              "      <td>2</td>\n",
              "      <td>3</td>\n",
              "      <td>11.0</td>\n",
              "    </tr>\n",
              "  </tbody>\n",
              "</table>\n",
              "</div>\n",
              "      <button class=\"colab-df-convert\" onclick=\"convertToInteractive('df-894ffaf0-f52e-42b3-8807-3cf4220f0006')\"\n",
              "              title=\"Convert this dataframe to an interactive table.\"\n",
              "              style=\"display:none;\">\n",
              "        \n",
              "  <svg xmlns=\"http://www.w3.org/2000/svg\" height=\"24px\"viewBox=\"0 0 24 24\"\n",
              "       width=\"24px\">\n",
              "    <path d=\"M0 0h24v24H0V0z\" fill=\"none\"/>\n",
              "    <path d=\"M18.56 5.44l.94 2.06.94-2.06 2.06-.94-2.06-.94-.94-2.06-.94 2.06-2.06.94zm-11 1L8.5 8.5l.94-2.06 2.06-.94-2.06-.94L8.5 2.5l-.94 2.06-2.06.94zm10 10l.94 2.06.94-2.06 2.06-.94-2.06-.94-.94-2.06-.94 2.06-2.06.94z\"/><path d=\"M17.41 7.96l-1.37-1.37c-.4-.4-.92-.59-1.43-.59-.52 0-1.04.2-1.43.59L10.3 9.45l-7.72 7.72c-.78.78-.78 2.05 0 2.83L4 21.41c.39.39.9.59 1.41.59.51 0 1.02-.2 1.41-.59l7.78-7.78 2.81-2.81c.8-.78.8-2.07 0-2.86zM5.41 20L4 18.59l7.72-7.72 1.47 1.35L5.41 20z\"/>\n",
              "  </svg>\n",
              "      </button>\n",
              "      \n",
              "  <style>\n",
              "    .colab-df-container {\n",
              "      display:flex;\n",
              "      flex-wrap:wrap;\n",
              "      gap: 12px;\n",
              "    }\n",
              "\n",
              "    .colab-df-convert {\n",
              "      background-color: #E8F0FE;\n",
              "      border: none;\n",
              "      border-radius: 50%;\n",
              "      cursor: pointer;\n",
              "      display: none;\n",
              "      fill: #1967D2;\n",
              "      height: 32px;\n",
              "      padding: 0 0 0 0;\n",
              "      width: 32px;\n",
              "    }\n",
              "\n",
              "    .colab-df-convert:hover {\n",
              "      background-color: #E2EBFA;\n",
              "      box-shadow: 0px 1px 2px rgba(60, 64, 67, 0.3), 0px 1px 3px 1px rgba(60, 64, 67, 0.15);\n",
              "      fill: #174EA6;\n",
              "    }\n",
              "\n",
              "    [theme=dark] .colab-df-convert {\n",
              "      background-color: #3B4455;\n",
              "      fill: #D2E3FC;\n",
              "    }\n",
              "\n",
              "    [theme=dark] .colab-df-convert:hover {\n",
              "      background-color: #434B5C;\n",
              "      box-shadow: 0px 1px 3px 1px rgba(0, 0, 0, 0.15);\n",
              "      filter: drop-shadow(0px 1px 2px rgba(0, 0, 0, 0.3));\n",
              "      fill: #FFFFFF;\n",
              "    }\n",
              "  </style>\n",
              "\n",
              "      <script>\n",
              "        const buttonEl =\n",
              "          document.querySelector('#df-894ffaf0-f52e-42b3-8807-3cf4220f0006 button.colab-df-convert');\n",
              "        buttonEl.style.display =\n",
              "          google.colab.kernel.accessAllowed ? 'block' : 'none';\n",
              "\n",
              "        async function convertToInteractive(key) {\n",
              "          const element = document.querySelector('#df-894ffaf0-f52e-42b3-8807-3cf4220f0006');\n",
              "          const dataTable =\n",
              "            await google.colab.kernel.invokeFunction('convertToInteractive',\n",
              "                                                     [key], {});\n",
              "          if (!dataTable) return;\n",
              "\n",
              "          const docLinkHtml = 'Like what you see? Visit the ' +\n",
              "            '<a target=\"_blank\" href=https://colab.research.google.com/notebooks/data_table.ipynb>data table notebook</a>'\n",
              "            + ' to learn more about interactive tables.';\n",
              "          element.innerHTML = '';\n",
              "          dataTable['output_type'] = 'display_data';\n",
              "          await google.colab.output.renderOutput(dataTable, element);\n",
              "          const docLink = document.createElement('div');\n",
              "          docLink.innerHTML = docLinkHtml;\n",
              "          element.appendChild(docLink);\n",
              "        }\n",
              "      </script>\n",
              "    </div>\n",
              "  </div>\n",
              "  "
            ]
          },
          "metadata": {},
          "execution_count": 4
        }
      ]
    },
    {
      "cell_type": "code",
      "source": [
        "df.info()"
      ],
      "metadata": {
        "colab": {
          "base_uri": "https://localhost:8080/"
        },
        "id": "UO6MndypvEkK",
        "outputId": "01cfb698-c2e5-47d7-ae96-4d3434607b2b"
      },
      "execution_count": null,
      "outputs": [
        {
          "output_type": "stream",
          "name": "stdout",
          "text": [
            "<class 'pandas.core.frame.DataFrame'>\n",
            "Int64Index: 5334 entries, 31130 to 41473\n",
            "Data columns (total 14 columns):\n",
            " #   Column    Non-Null Count  Dtype  \n",
            "---  ------    --------------  -----  \n",
            " 0   DPQ010    4836 non-null   float64\n",
            " 1   DPQ020    4836 non-null   float64\n",
            " 2   DPQ030    4836 non-null   float64\n",
            " 3   DPQ040    4836 non-null   float64\n",
            " 4   DPQ050    4836 non-null   float64\n",
            " 5   DPQ060    4836 non-null   float64\n",
            " 6   DPQ070    4836 non-null   float64\n",
            " 7   DPQ080    4836 non-null   float64\n",
            " 8   DPQ090    4836 non-null   float64\n",
            " 9   RIAGENDR  5334 non-null   int64  \n",
            " 10  RIDAGEYR  5334 non-null   int64  \n",
            " 11  RIDRETH1  5334 non-null   int64  \n",
            " 12  DMDEDUC   5334 non-null   int64  \n",
            " 13  INDFMINC  5287 non-null   float64\n",
            "dtypes: float64(10), int64(4)\n",
            "memory usage: 625.1 KB\n"
          ]
        }
      ]
    },
    {
      "cell_type": "markdown",
      "source": [
        "# Tratamento dos Dados"
      ],
      "metadata": {
        "id": "ZrkXZZd7oSdZ"
      }
    },
    {
      "cell_type": "code",
      "source": [
        "#-Renomear colunas\n",
        "df = df.rename(columns={'DPQ010':'Q1'})\n",
        "df = df.rename(columns={'DPQ020':'Q2'})\n",
        "df = df.rename(columns={'DPQ030':'Q3'})\n",
        "df = df.rename(columns={'DPQ040':'Q4'})\n",
        "df = df.rename(columns={'DPQ050':'Q5'})\n",
        "df = df.rename(columns={'DPQ060':'Q6'})\n",
        "df = df.rename(columns={'DPQ070':'Q7'})\n",
        "df = df.rename(columns={'DPQ080':'Q8'})\n",
        "df = df.rename(columns={'DPQ090':'Q9'})\n",
        "df = df.rename(columns={'RIAGENDR':'GENERO'})\n",
        "df = df.rename(columns={'RIDAGEYR':'IDADE'})\n",
        "df = df.rename(columns={'RIDRETH1':'ETNIA'})\n",
        "df = df.rename(columns={'DMDEDUC':'ESCOLARIDADE'})\n",
        "df = df.rename(columns={'INDFMINC':'RENDA'})\n",
        "\n",
        "#-Substituir respostas 7 e 9 por nulo\n",
        "df.loc[((df['Q1'] == 7 ) | (df['Q1'] == 9) ,'Q1')] = np.nan\n",
        "df.loc[((df['Q2'] == 7 ) | (df['Q2'] == 9) ,'Q2')] = np.nan\n",
        "df.loc[((df['Q3'] == 7 ) | (df['Q3'] == 9) ,'Q3')] = np.nan\n",
        "df.loc[((df['Q4'] == 7 ) | (df['Q4'] == 9) ,'Q4')] = np.nan\n",
        "df.loc[((df['Q5'] == 7 ) | (df['Q5'] == 9) ,'Q5')] = np.nan\n",
        "df.loc[((df['Q6'] == 7 ) | (df['Q6'] == 9) ,'Q6')] = np.nan\n",
        "df.loc[((df['Q7'] == 7 ) | (df['Q7'] == 9) ,'Q7')] = np.nan\n",
        "df.loc[((df['Q8'] == 7 ) | (df['Q8'] == 9) ,'Q8')] = np.nan\n",
        "df.loc[((df['Q9'] == 7 ) | (df['Q9'] == 9) ,'Q9')] = np.nan\n",
        "df.loc[((df['ESCOLARIDADE'] == 7 ) | (df['ESCOLARIDADE'] == 9) ,'ESCOLARIDADE')] = np.nan\n",
        "\n",
        "#-Tratar RENDA\n",
        "df.loc[(df['RENDA'] == 1 ,'RENDA')]  = 2.500\n",
        "df.loc[(df['RENDA'] == 2 ,'RENDA')]  = 7.500\n",
        "df.loc[(df['RENDA'] == 3 ,'RENDA')]  = 12.500\n",
        "df.loc[(df['RENDA'] == 4  ,'RENDA')]  = 17.500\n",
        "df.loc[(df['RENDA'] == 5  ,'RENDA')]  = 22.500\n",
        "df.loc[(df['RENDA'] == 6  ,'RENDA')]  = 30.000\n",
        "df.loc[(df['RENDA'] == 7  ,'RENDA')]  = 40.000\n",
        "df.loc[(df['RENDA'] == 8  ,'RENDA')]  = 50.000\n",
        "df.loc[(df['RENDA'] == 9  ,'RENDA')]  = 60.000\n",
        "df.loc[(df['RENDA'] == 10  ,'RENDA')] = 70.000\n",
        "df.loc[(df['RENDA'] == 11  ,'RENDA')] = 80.000\n",
        "df.loc[(df['RENDA'] == 12  ,'RENDA')] = 90.000\n",
        "df.loc[(df['RENDA'] == 13  ,'RENDA')] = 95.000\n",
        "df.loc[((df['RENDA'] == 77 ) | (df['RENDA'] == 99) ,'RENDA')] = np.nan"
      ],
      "metadata": {
        "id": "Jg3psmyvvLa7"
      },
      "execution_count": null,
      "outputs": []
    },
    {
      "cell_type": "code",
      "source": [
        "#-Verificar se o percentual de valores vazios é maior que 10%\n",
        "df.isna().mean().round(2)"
      ],
      "metadata": {
        "colab": {
          "base_uri": "https://localhost:8080/"
        },
        "id": "0gxn3wBJS0S1",
        "outputId": "cccb5ea0-2390-4104-d165-ae26798752a8"
      },
      "execution_count": null,
      "outputs": [
        {
          "output_type": "execute_result",
          "data": {
            "text/plain": [
              "Q1              0.10\n",
              "Q2              0.09\n",
              "Q3              0.09\n",
              "Q4              0.09\n",
              "Q5              0.09\n",
              "Q6              0.09\n",
              "Q7              0.09\n",
              "Q8              0.10\n",
              "Q9              0.09\n",
              "GENERO          0.00\n",
              "IDADE           0.00\n",
              "ETNIA           0.00\n",
              "ESCOLARIDADE    0.00\n",
              "RENDA           0.03\n",
              "dtype: float64"
            ]
          },
          "metadata": {},
          "execution_count": 7
        }
      ]
    },
    {
      "cell_type": "code",
      "source": [
        "#-Considerar moda nas perguntas onde há 10% dos valores faltantes\n",
        "df['Q1'].fillna(df['Q1'].mode()[0], inplace=True)\n",
        "df['Q8'].fillna(df['Q8'].mode()[0], inplace=True)\n",
        "\n",
        "#-Apagar colunas sem valor\n",
        "df.dropna(inplace = True)\n",
        "\n",
        "#-Ajustar campo ESCOLARIDADE para inteiro\n",
        "df['ESCOLARIDADE'] = df['ESCOLARIDADE'].astype(int)\n",
        "\n",
        "#-Somar colunas do questionario, totalizando na nova coluna TOTAL\n",
        "df['TOTAL'] = df.apply(lambda x: sum(x[:9]), axis = 1).astype(int)\n",
        "\n",
        "#-Criar grupos de SINTOMAS de Depressão\n",
        "df['SINTOMAS']=pd.cut(\n",
        "   df['TOTAL'],\n",
        "   bins=[-1, 4, 9, sys.maxsize],\n",
        "   labels=[0, 1, 2]\n",
        ").astype(int)\n",
        "\n",
        "#-Apagar colunas do questionario\n",
        "df.drop(['Q1','Q2','Q3','Q4','Q5','Q6','Q7','Q8','Q9'], axis=1, inplace=True)\n",
        "\n",
        "#-Apresentar numero de registros e colunas \n",
        "df.shape"
      ],
      "metadata": {
        "id": "1Lg5DjOIQCkm",
        "colab": {
          "base_uri": "https://localhost:8080/"
        },
        "outputId": "fb453543-b860-4eb5-c6e2-a6d718e8a45b"
      },
      "execution_count": null,
      "outputs": [
        {
          "output_type": "execute_result",
          "data": {
            "text/plain": [
              "(4691, 7)"
            ]
          },
          "metadata": {},
          "execution_count": 8
        }
      ]
    },
    {
      "cell_type": "markdown",
      "source": [
        "Após leitura da planilha de dados foi renomeado, substítuido, criado e excluido colunas da mesma. Resultando assim em uma tabela com 4691 registros contendo as informações necessárias para a continuação da análise da amostra."
      ],
      "metadata": {
        "id": "4on375wzBydf"
      }
    },
    {
      "cell_type": "markdown",
      "source": [
        "# EDA: Análise Univariada"
      ],
      "metadata": {
        "id": "MbdSMaXLoWRl"
      }
    },
    {
      "cell_type": "code",
      "source": [
        "#-Resumo variáveis quantitativas\n",
        "df[['IDADE','RENDA','TOTAL']].describe().round(2)"
      ],
      "metadata": {
        "colab": {
          "base_uri": "https://localhost:8080/",
          "height": 300
        },
        "id": "3w8xz3VvfsQI",
        "outputId": "06cffb8d-6cba-48fe-8702-b977b8f221d7"
      },
      "execution_count": null,
      "outputs": [
        {
          "output_type": "execute_result",
          "data": {
            "text/plain": [
              "         IDADE    RENDA    TOTAL\n",
              "count  4691.00  4691.00  4691.00\n",
              "mean     44.81    43.23     2.73\n",
              "std      19.80    26.60     3.74\n",
              "min      18.00     2.50     0.00\n",
              "25%      27.00    17.50     0.00\n",
              "50%      42.00    40.00     1.00\n",
              "75%      61.00    70.00     4.00\n",
              "max      85.00    95.00    27.00"
            ],
            "text/html": [
              "\n",
              "  <div id=\"df-e85ce345-4c3b-4f12-9aa6-77e90d576053\">\n",
              "    <div class=\"colab-df-container\">\n",
              "      <div>\n",
              "<style scoped>\n",
              "    .dataframe tbody tr th:only-of-type {\n",
              "        vertical-align: middle;\n",
              "    }\n",
              "\n",
              "    .dataframe tbody tr th {\n",
              "        vertical-align: top;\n",
              "    }\n",
              "\n",
              "    .dataframe thead th {\n",
              "        text-align: right;\n",
              "    }\n",
              "</style>\n",
              "<table border=\"1\" class=\"dataframe\">\n",
              "  <thead>\n",
              "    <tr style=\"text-align: right;\">\n",
              "      <th></th>\n",
              "      <th>IDADE</th>\n",
              "      <th>RENDA</th>\n",
              "      <th>TOTAL</th>\n",
              "    </tr>\n",
              "  </thead>\n",
              "  <tbody>\n",
              "    <tr>\n",
              "      <th>count</th>\n",
              "      <td>4691.00</td>\n",
              "      <td>4691.00</td>\n",
              "      <td>4691.00</td>\n",
              "    </tr>\n",
              "    <tr>\n",
              "      <th>mean</th>\n",
              "      <td>44.81</td>\n",
              "      <td>43.23</td>\n",
              "      <td>2.73</td>\n",
              "    </tr>\n",
              "    <tr>\n",
              "      <th>std</th>\n",
              "      <td>19.80</td>\n",
              "      <td>26.60</td>\n",
              "      <td>3.74</td>\n",
              "    </tr>\n",
              "    <tr>\n",
              "      <th>min</th>\n",
              "      <td>18.00</td>\n",
              "      <td>2.50</td>\n",
              "      <td>0.00</td>\n",
              "    </tr>\n",
              "    <tr>\n",
              "      <th>25%</th>\n",
              "      <td>27.00</td>\n",
              "      <td>17.50</td>\n",
              "      <td>0.00</td>\n",
              "    </tr>\n",
              "    <tr>\n",
              "      <th>50%</th>\n",
              "      <td>42.00</td>\n",
              "      <td>40.00</td>\n",
              "      <td>1.00</td>\n",
              "    </tr>\n",
              "    <tr>\n",
              "      <th>75%</th>\n",
              "      <td>61.00</td>\n",
              "      <td>70.00</td>\n",
              "      <td>4.00</td>\n",
              "    </tr>\n",
              "    <tr>\n",
              "      <th>max</th>\n",
              "      <td>85.00</td>\n",
              "      <td>95.00</td>\n",
              "      <td>27.00</td>\n",
              "    </tr>\n",
              "  </tbody>\n",
              "</table>\n",
              "</div>\n",
              "      <button class=\"colab-df-convert\" onclick=\"convertToInteractive('df-e85ce345-4c3b-4f12-9aa6-77e90d576053')\"\n",
              "              title=\"Convert this dataframe to an interactive table.\"\n",
              "              style=\"display:none;\">\n",
              "        \n",
              "  <svg xmlns=\"http://www.w3.org/2000/svg\" height=\"24px\"viewBox=\"0 0 24 24\"\n",
              "       width=\"24px\">\n",
              "    <path d=\"M0 0h24v24H0V0z\" fill=\"none\"/>\n",
              "    <path d=\"M18.56 5.44l.94 2.06.94-2.06 2.06-.94-2.06-.94-.94-2.06-.94 2.06-2.06.94zm-11 1L8.5 8.5l.94-2.06 2.06-.94-2.06-.94L8.5 2.5l-.94 2.06-2.06.94zm10 10l.94 2.06.94-2.06 2.06-.94-2.06-.94-.94-2.06-.94 2.06-2.06.94z\"/><path d=\"M17.41 7.96l-1.37-1.37c-.4-.4-.92-.59-1.43-.59-.52 0-1.04.2-1.43.59L10.3 9.45l-7.72 7.72c-.78.78-.78 2.05 0 2.83L4 21.41c.39.39.9.59 1.41.59.51 0 1.02-.2 1.41-.59l7.78-7.78 2.81-2.81c.8-.78.8-2.07 0-2.86zM5.41 20L4 18.59l7.72-7.72 1.47 1.35L5.41 20z\"/>\n",
              "  </svg>\n",
              "      </button>\n",
              "      \n",
              "  <style>\n",
              "    .colab-df-container {\n",
              "      display:flex;\n",
              "      flex-wrap:wrap;\n",
              "      gap: 12px;\n",
              "    }\n",
              "\n",
              "    .colab-df-convert {\n",
              "      background-color: #E8F0FE;\n",
              "      border: none;\n",
              "      border-radius: 50%;\n",
              "      cursor: pointer;\n",
              "      display: none;\n",
              "      fill: #1967D2;\n",
              "      height: 32px;\n",
              "      padding: 0 0 0 0;\n",
              "      width: 32px;\n",
              "    }\n",
              "\n",
              "    .colab-df-convert:hover {\n",
              "      background-color: #E2EBFA;\n",
              "      box-shadow: 0px 1px 2px rgba(60, 64, 67, 0.3), 0px 1px 3px 1px rgba(60, 64, 67, 0.15);\n",
              "      fill: #174EA6;\n",
              "    }\n",
              "\n",
              "    [theme=dark] .colab-df-convert {\n",
              "      background-color: #3B4455;\n",
              "      fill: #D2E3FC;\n",
              "    }\n",
              "\n",
              "    [theme=dark] .colab-df-convert:hover {\n",
              "      background-color: #434B5C;\n",
              "      box-shadow: 0px 1px 3px 1px rgba(0, 0, 0, 0.15);\n",
              "      filter: drop-shadow(0px 1px 2px rgba(0, 0, 0, 0.3));\n",
              "      fill: #FFFFFF;\n",
              "    }\n",
              "  </style>\n",
              "\n",
              "      <script>\n",
              "        const buttonEl =\n",
              "          document.querySelector('#df-e85ce345-4c3b-4f12-9aa6-77e90d576053 button.colab-df-convert');\n",
              "        buttonEl.style.display =\n",
              "          google.colab.kernel.accessAllowed ? 'block' : 'none';\n",
              "\n",
              "        async function convertToInteractive(key) {\n",
              "          const element = document.querySelector('#df-e85ce345-4c3b-4f12-9aa6-77e90d576053');\n",
              "          const dataTable =\n",
              "            await google.colab.kernel.invokeFunction('convertToInteractive',\n",
              "                                                     [key], {});\n",
              "          if (!dataTable) return;\n",
              "\n",
              "          const docLinkHtml = 'Like what you see? Visit the ' +\n",
              "            '<a target=\"_blank\" href=https://colab.research.google.com/notebooks/data_table.ipynb>data table notebook</a>'\n",
              "            + ' to learn more about interactive tables.';\n",
              "          element.innerHTML = '';\n",
              "          dataTable['output_type'] = 'display_data';\n",
              "          await google.colab.output.renderOutput(dataTable, element);\n",
              "          const docLink = document.createElement('div');\n",
              "          docLink.innerHTML = docLinkHtml;\n",
              "          element.appendChild(docLink);\n",
              "        }\n",
              "      </script>\n",
              "    </div>\n",
              "  </div>\n",
              "  "
            ]
          },
          "metadata": {},
          "execution_count": 9
        }
      ]
    },
    {
      "cell_type": "markdown",
      "source": [
        "Ao analisar as variáveis quantitativas podemos observar que a 'idade' dos entrevistados varia entre 18 a 85 anos, sendo 42 anos a idade mediana dentre os mesmos. Quanto a 'renda', o valor mínimo médio é de 2,5k dólares, o valor máximo é acima de 95k dólares e a renda média entre os entrevistados é de aproximadamente 43k dólares. E quanto a pontuação 'total' resultante das 9 perguntas referente aos problemas percebidos nas ultimas 2 semanas, cerca de 75% das pessoas alcançaram até 4 pontos."
      ],
      "metadata": {
        "id": "6yIihNTaAOwD"
      }
    },
    {
      "cell_type": "code",
      "source": [
        "#-Resumo variáveis qualitativas\n",
        "df[['GENERO','ETNIA','ESCOLARIDADE','SINTOMAS']].apply(pd.value_counts, normalize=True).style.format('{:.2%}')"
      ],
      "metadata": {
        "colab": {
          "base_uri": "https://localhost:8080/",
          "height": 237
        },
        "id": "wgiwR1R4Lh9X",
        "outputId": "3b172ad1-67a6-481b-db12-8c678157587b"
      },
      "execution_count": null,
      "outputs": [
        {
          "output_type": "execute_result",
          "data": {
            "text/plain": [
              "<pandas.io.formats.style.Styler at 0x7ff7a75c9dd0>"
            ],
            "text/html": [
              "<style type=\"text/css\">\n",
              "</style>\n",
              "<table id=\"T_654a3_\" class=\"dataframe\">\n",
              "  <thead>\n",
              "    <tr>\n",
              "      <th class=\"blank level0\" >&nbsp;</th>\n",
              "      <th class=\"col_heading level0 col0\" >GENERO</th>\n",
              "      <th class=\"col_heading level0 col1\" >ETNIA</th>\n",
              "      <th class=\"col_heading level0 col2\" >ESCOLARIDADE</th>\n",
              "      <th class=\"col_heading level0 col3\" >SINTOMAS</th>\n",
              "    </tr>\n",
              "  </thead>\n",
              "  <tbody>\n",
              "    <tr>\n",
              "      <th id=\"T_654a3_level0_row0\" class=\"row_heading level0 row0\" >0</th>\n",
              "      <td id=\"T_654a3_row0_col0\" class=\"data row0 col0\" >nan%</td>\n",
              "      <td id=\"T_654a3_row0_col1\" class=\"data row0 col1\" >nan%</td>\n",
              "      <td id=\"T_654a3_row0_col2\" class=\"data row0 col2\" >nan%</td>\n",
              "      <td id=\"T_654a3_row0_col3\" class=\"data row0 col3\" >79.30%</td>\n",
              "    </tr>\n",
              "    <tr>\n",
              "      <th id=\"T_654a3_level0_row1\" class=\"row_heading level0 row1\" >1</th>\n",
              "      <td id=\"T_654a3_row1_col0\" class=\"data row1 col0\" >48.28%</td>\n",
              "      <td id=\"T_654a3_row1_col1\" class=\"data row1 col1\" >20.55%</td>\n",
              "      <td id=\"T_654a3_row1_col2\" class=\"data row1 col2\" >10.59%</td>\n",
              "      <td id=\"T_654a3_row1_col3\" class=\"data row1 col3\" >14.43%</td>\n",
              "    </tr>\n",
              "    <tr>\n",
              "      <th id=\"T_654a3_level0_row2\" class=\"row_heading level0 row2\" >2</th>\n",
              "      <td id=\"T_654a3_row2_col0\" class=\"data row2 col0\" >51.72%</td>\n",
              "      <td id=\"T_654a3_row2_col1\" class=\"data row2 col1\" >3.05%</td>\n",
              "      <td id=\"T_654a3_row2_col2\" class=\"data row2 col2\" >17.05%</td>\n",
              "      <td id=\"T_654a3_row2_col3\" class=\"data row2 col3\" >6.27%</td>\n",
              "    </tr>\n",
              "    <tr>\n",
              "      <th id=\"T_654a3_level0_row3\" class=\"row_heading level0 row3\" >3</th>\n",
              "      <td id=\"T_654a3_row3_col0\" class=\"data row3 col0\" >nan%</td>\n",
              "      <td id=\"T_654a3_row3_col1\" class=\"data row3 col1\" >48.71%</td>\n",
              "      <td id=\"T_654a3_row3_col2\" class=\"data row3 col2\" >25.22%</td>\n",
              "      <td id=\"T_654a3_row3_col3\" class=\"data row3 col3\" >nan%</td>\n",
              "    </tr>\n",
              "    <tr>\n",
              "      <th id=\"T_654a3_level0_row4\" class=\"row_heading level0 row4\" >4</th>\n",
              "      <td id=\"T_654a3_row4_col0\" class=\"data row4 col0\" >nan%</td>\n",
              "      <td id=\"T_654a3_row4_col1\" class=\"data row4 col1\" >23.81%</td>\n",
              "      <td id=\"T_654a3_row4_col2\" class=\"data row4 col2\" >28.69%</td>\n",
              "      <td id=\"T_654a3_row4_col3\" class=\"data row4 col3\" >nan%</td>\n",
              "    </tr>\n",
              "    <tr>\n",
              "      <th id=\"T_654a3_level0_row5\" class=\"row_heading level0 row5\" >5</th>\n",
              "      <td id=\"T_654a3_row5_col0\" class=\"data row5 col0\" >nan%</td>\n",
              "      <td id=\"T_654a3_row5_col1\" class=\"data row5 col1\" >3.88%</td>\n",
              "      <td id=\"T_654a3_row5_col2\" class=\"data row5 col2\" >18.44%</td>\n",
              "      <td id=\"T_654a3_row5_col3\" class=\"data row5 col3\" >nan%</td>\n",
              "    </tr>\n",
              "  </tbody>\n",
              "</table>\n"
            ]
          },
          "metadata": {},
          "execution_count": 10
        }
      ]
    },
    {
      "cell_type": "markdown",
      "source": [
        "Analisando as variáveis qualitativas, podemos observar que a quantidade de 'mulheres' é apenas 3% maior que a de 'homens'. Sendo que quase 50% da amostra são de 'brancos não latinos', e quase 30% dos entrevistados possuem o 'ensino superior incompleto' e 25% possuem o 'ensino médio'. Com base no 'total' de pontos de cada entrevistado, estes foram  atribuidos a um grupo de 'sintomas' que então resultou em 20% das pessoas com algum sintoma de depressão."
      ],
      "metadata": {
        "id": "a6TiLP1oAZHn"
      }
    },
    {
      "cell_type": "code",
      "source": [
        "#-Visualização da distribuição dos dados\n",
        "fig,((ax,ax2),(ax3,ax4),(ax5,ax6))= plt.subplots(ncols=2,nrows=3, figsize=(18,12))\n",
        "\n",
        "df['GENERO'].hist(ax=ax,width=0.3)\n",
        "ax.set_title('Gênero',fontsize= 18,color='black',pad=13)\n",
        "ax.set_ylabel('Quantidade', fontsize=13,labelpad=12)\n",
        "ax.set_xticklabels(['','','Masculino','','Feminino'],rotation=0,fontsize=13)\n",
        "ax.set_xlim(0.0,3)\n",
        "ax.grid(False)\n",
        "ax.yaxis.set_visible=(False)\n",
        "ax.tick_params(bottom=False)\n",
        "\n",
        "_, edges = pd.cut(df['IDADE'], bins=7, retbins=True)\n",
        "edges = [int(x) for x in edges]\n",
        "pd.cut(df['IDADE'], bins=edges, include_lowest=False).value_counts().sort_index().plot.bar(ax=ax2,width=.4)\n",
        "ax2.set_title('Idade',fontsize= 18,color='black',pad=13)\n",
        "ax2.set_ylabel('Quantidade', fontsize=13,labelpad=12)\n",
        "ax2.grid(False)\n",
        "ax2.yaxis.set_visible=(False)\n",
        "\n",
        "df['ETNIA'].hist(ax=ax3)\n",
        "ax3.set_title('Etnia',fontsize= 18,color='black',pad=13)\n",
        "ax3.set_ylabel('Quantidade', fontsize=13,labelpad=12)\n",
        "ax3.grid(False)\n",
        "ax3.yaxis.set_visible=(False)\n",
        "ax3.set_xticklabels(['','Americano/Mexicano','Latino','Brancos não latinos','Pretos não latinos','Outros'],rotation=15,fontsize=13)\n",
        "ax3.set_xlim(0,6)\n",
        "ax3.grid(False)\n",
        "ax3.yaxis.set_visible=(False)\n",
        "ax3.tick_params(bottom=False)\n",
        "\n",
        "df['ESCOLARIDADE'].hist(ax=ax4)\n",
        "ax4.set_title('Escolaridade',fontsize= 18,color='black',pad=13)\n",
        "ax4.set_ylabel('Quantidade', fontsize=13,labelpad=12)\n",
        "ax4.grid(False)\n",
        "ax4.yaxis.set_visible=(False)\n",
        "ax4.set_xticklabels(['','Menor que 9ª ano','9-12º ano','Ensino médio','Ensino superior incompleto','Superior completo ou maior'],rotation=15,fontsize=13)\n",
        "ax4.set_xlim(0,6)\n",
        "ax4.grid(False)\n",
        "ax4.yaxis.set_visible=(False)\n",
        "ax4.tick_params(bottom=False)\n",
        "\n",
        "df['RENDA'].value_counts().sort_index().plot.bar(ax=ax5,width=.6)\n",
        "ax5.set_title('Renda',fontsize= 18,color='black',pad=13)\n",
        "ax5.set_ylabel('Quantidade', fontsize=13,labelpad=12)\n",
        "ax5.grid(False)\n",
        "ax5.yaxis.set_visible=(False)\n",
        "\n",
        "df['SINTOMAS'].hist(ax=ax6)\n",
        "ax6.set_title('Sintomas',fontsize= 18,color='black',pad=13)\n",
        "ax6.set_ylabel('Quantidade', fontsize=13,labelpad=12)\n",
        "ax6.set_xticklabels(['','Sem sintomas','','Sintomas leves','','Sintomas moderados ou severos'],rotation=15,fontsize=13)\n",
        "ax6.set_xlim(-.5,2.5)\n",
        "ax6.grid(False)\n",
        "ax6.yaxis.set_visible=(False)\n",
        "ax6.tick_params(bottom=False)\n",
        "\n",
        "fig.tight_layout()\n",
        "sns.despine()\n",
        "plt.show()"
      ],
      "metadata": {
        "colab": {
          "base_uri": "https://localhost:8080/",
          "height": 677
        },
        "id": "kby4yCzT5ysg",
        "outputId": "94e2d297-79f9-435b-df93-0778b1f33fbe"
      },
      "execution_count": null,
      "outputs": [
        {
          "output_type": "display_data",
          "data": {
            "text/plain": [
              "<Figure size 1296x864 with 6 Axes>"
            ],
            "image/png": "[encoded data removed]"
          },
          "metadata": {
            "needs_background": "light"
          }
        }
      ]
    },
    {
      "cell_type": "markdown",
      "source": [
        "Os gráficos acima demonstram cada uma das análises feitas anteriormente."
      ],
      "metadata": {
        "id": "EzcinRp1Ab8v"
      }
    },
    {
      "cell_type": "markdown",
      "source": [
        "# EDA: Análise bivariada"
      ],
      "metadata": {
        "id": "yq_fyvCYokGp"
      }
    },
    {
      "cell_type": "code",
      "source": [
        "#-Gênero, Etnia e Escolaridade\n",
        "fig,(ax,ax2,ax3)= plt.subplots(ncols=3,figsize=(21,7))\n",
        "fig.suptitle('Sintomas de Depressão por Gênero, Etnia e Escolaridade',y=1.06,fontsize=20)\n",
        "\n",
        "df.groupby(['GENERO','SINTOMAS']).size().groupby(level=0).apply(\n",
        "    lambda x: 100 * x / x.sum()\n",
        ").unstack().sort_index(axis=1,ascending=True).plot.bar(stacked=True,alpha=0.7,rot=0,ax=ax,legend=False,width=.5)\n",
        "ax.set_title('% por Gênero',fontsize= 18,color='black',pad=13)\n",
        "ax.set_xlabel('Sintomas', visible=False)\n",
        "ax.set_xlim(-1.5,2.5)\n",
        "ax.set_xticklabels(['Masculino','Feminino'],rotation=25,fontsize=13)\n",
        "ax.grid(False)\n",
        "ax.yaxis.set_visible=(False)\n",
        "ax.set(frame_on=False)\n",
        "ax.tick_params(left=False)\n",
        "ax.tick_params(bottom=False)\n",
        "ax.tick_params(labelleft=False)\n",
        "\n",
        "for i in ax.patches:\n",
        "    height = i.get_height()\n",
        "    width = i.get_width()\n",
        "    x = i.get_x()\n",
        "    y = i.get_y()\n",
        "    label_text = f'{height:.2f}'  \n",
        "    label_x = x + width / 2\n",
        "    label_y = y + height / 2\n",
        "    ax.text(label_x, label_y, label_text, ha='center', va='center', fontsize=14)\n",
        "\n",
        "df.groupby(['ETNIA','SINTOMAS']).size().groupby(level=0).apply(\n",
        "    lambda x: 100 * x / x.sum()\n",
        ").unstack().sort_index(axis=1,ascending=True).plot.bar(stacked=True,alpha=0.7,rot=0,ax=ax2,legend=False,width=.7)\n",
        "ax2.set_title('% por Etnia',fontsize= 18,color='black',pad=13)\n",
        "ax2.set_xlabel('Etnia', visible=False)\n",
        "ax2.legend(['Sem sintomas','Sintomas leves','Sintomas moderados ou severos'],loc='upper center', bbox_to_anchor=(0.5, 1.3),fancybox=True, shadow=True, ncol=3,fontsize=12)\n",
        "ax2.set_xticklabels(['Americano/Mexicano','Latino','Brancos não latinos','Pretos não latinos','Outros'],rotation=25,fontsize=13)\n",
        "ax2.grid(False)\n",
        "ax2.yaxis.set_visible=(False)\n",
        "ax2.set(frame_on=False)\n",
        "ax2.tick_params(left=False)\n",
        "ax2.tick_params(bottom=False)\n",
        "ax2.tick_params(labelleft=False)\n",
        "\n",
        "for i in ax2.patches:\n",
        "    height = i.get_height()\n",
        "    width = i.get_width()\n",
        "    x = i.get_x()\n",
        "    y = i.get_y()\n",
        "    label_text = f'{height:.2f}'  \n",
        "    label_x = x + width / 2\n",
        "    label_y = y + height / 2\n",
        "    ax2.text(label_x, label_y, label_text, ha='center', va='center', fontsize=14)\n",
        "    \n",
        "df.groupby(['ESCOLARIDADE','SINTOMAS']).size().groupby(level=0).apply(\n",
        "    lambda x: 100 * x / x.sum()\n",
        ").unstack().sort_index(axis=1,ascending=True).plot.bar(stacked=True,alpha=0.7,rot=0,ax=ax3,legend=False,width=.7)\n",
        "ax3.set_title('% por Escolaridade',fontsize= 18,color='black',pad=13)\n",
        "ax3.set_xlabel('Escolaridade', visible=False)\n",
        "ax3.set_xticklabels(['Menor que 9ª ano','9-12º ano','Ensino médio','Ensino superior incompleto','Superior completo ou maior'],rotation=25,fontsize=13)\n",
        "ax3.grid(False)\n",
        "ax3.set(frame_on=False)\n",
        "ax3.tick_params(left=False)\n",
        "ax3.tick_params(bottom=False)\n",
        "ax3.tick_params(labelleft=False)\n",
        "\n",
        "for i in ax3.patches:\n",
        "    height = i.get_height()\n",
        "    width = i.get_width()\n",
        "    x = i.get_x()\n",
        "    y = i.get_y()\n",
        "    label_text = f'{height:.2f}'  \n",
        "    label_x = x + width / 2\n",
        "    label_y = y + height / 2\n",
        "    ax3.text(label_x, label_y, label_text, ha='center', va='center', fontsize=14)\n",
        "\n",
        "fig.tight_layout()\n",
        "sns.despine()\n",
        "fig.show()"
      ],
      "metadata": {
        "colab": {
          "base_uri": "https://localhost:8080/",
          "height": 368
        },
        "id": "pw1B7B_9RJ1S",
        "outputId": "d00067b8-d622-4279-bcbf-a2f34f4dd240"
      },
      "execution_count": null,
      "outputs": [
        {
          "output_type": "display_data",
          "data": {
            "text/plain": [
              "<Figure size 1512x504 with 3 Axes>"
            ],
            "image/png": "[encoded data removed]"
          },
          "metadata": {
            "needs_background": "light"
          }
        }
      ]
    },
    {
      "cell_type": "markdown",
      "source": [
        "Com base na amostra pode-se dizer que as 'mulheres' apresentam mais sintomas de depressão do que os 'homens'.\n",
        "Embora 'latinos e outros' são a minoria entre os entrevistados, é possível verificar que eles apresentam maior quantidade de pessoas com alguma sintoma de depressão comparado as demais etnias.\n",
        "E comparando a amostra pelo nível de escolaridade pode-se notar que não há grande diferença entre os níveis, exceto pelo 'superior completo ou maior' que apresenta bem menos sintomas que os demais."
      ],
      "metadata": {
        "id": "DoxdxADCAdng"
      }
    },
    {
      "cell_type": "code",
      "source": [
        "#-Idade e Renda\n",
        "fig,(ax,ax2)= plt.subplots(ncols=2,figsize=(17,6))\n",
        "fig.suptitle('Sintomas de Depressão por Idade e Renda',y=1.06,fontsize=20)\n",
        "\n",
        "sns.boxplot(x=\"SINTOMAS\", y=\"IDADE\", data=df, linewidth=2.0, ax=ax)\n",
        "ax.set_title('Idade',fontsize= 18,color='black',pad=10)\n",
        "ax.set_ylabel('Idade', fontsize=13,labelpad=12)\n",
        "ax.set_xlabel('Sintomas',visible=False)\n",
        "ax.set_xticklabels(['Sem sintomas','Sintomas leves','Sintomas moderados ou severos'],fontsize=13)\n",
        "ax.grid(False)\n",
        "\n",
        "sns.boxplot(x=\"SINTOMAS\", y=\"RENDA\", data=df, linewidth=2.0, ax=ax2)\n",
        "ax2.set_title('Renda',fontsize= 18,color='black',pad=10)\n",
        "ax2.set_ylabel('Renda(k)', fontsize=13,labelpad=12)\n",
        "ax2.set_xlabel('Sintomas',visible=False)\n",
        "ax2.set_xticklabels(['Sem sintomas','Sintomas leves','Sintomas moderados ou severos'],fontsize=13)\n",
        "ax2.grid(False)\n",
        "\n",
        "fig.tight_layout()\n",
        "sns.despine()\n",
        "fig.show()"
      ],
      "metadata": {
        "colab": {
          "base_uri": "https://localhost:8080/",
          "height": 392
        },
        "id": "YoEyW0qBZykb",
        "outputId": "7824d52b-2bae-4014-8cb4-620a32743c59"
      },
      "execution_count": null,
      "outputs": [
        {
          "output_type": "display_data",
          "data": {
            "text/plain": [
              "<Figure size 1224x432 with 2 Axes>"
            ],
            "image/png": "[encoded data removed]"
          },
          "metadata": {
            "needs_background": "light"
          }
        }
      ]
    },
    {
      "cell_type": "markdown",
      "source": [
        "Ao verificar a 'idade' média de cada um dos grupos de sintomas, pode-se dizer que não há grande diferença entre eles. Já na 'renda' nota-se que há uma tendencia em haver mais sintomas entre os que possuem menor renda."
      ],
      "metadata": {
        "id": "GEEPcYvmAedj"
      }
    },
    {
      "cell_type": "code",
      "source": [
        "#-Escolaridade por Gênero e Sintomas de Depressão (excluindo Sem sintomas)\n",
        "fig,(ax)= plt.subplots(ncols=1,figsize=(10,6))\n",
        "fig.suptitle('Escolaridade por Gênero e Sintomas de Depressão (Leves e Moderados ou severos)',y=1.06,fontsize=20)\n",
        "df[(df['SINTOMAS'] == 1) & (df['GENERO'] ==1)].groupby(['ESCOLARIDADE']).size().plot(ax=ax,linewidth=3,color='deepskyblue',marker='D')\n",
        "df[(df['SINTOMAS'] == 2) & (df['GENERO'] ==1)].groupby(['ESCOLARIDADE']).size().plot(ax=ax,linewidth=3,color='dodgerblue',marker='D')\n",
        "df[(df['SINTOMAS'] == 1) & (df['GENERO'] ==2)].groupby(['ESCOLARIDADE']).size().plot(ax=ax,linewidth=3,color='hotpink',marker='D')\n",
        "df[(df['SINTOMAS'] == 2) & (df['GENERO'] ==2)].groupby(['ESCOLARIDADE']).size().plot(ax=ax,linewidth=3,color='deeppink',marker='D')\n",
        "legend_label = ['Masculino - Sintomas leves','Masculino - Sintomas moderados ou severos','Feminino - Sintomas leves','Feminino - Sintomas moderados ou severos']\n",
        "n = 0\n",
        "for line in ax.lines:\n",
        "    data_x, data_y = line.get_data()\n",
        "    right_most_x = data_x[-1]\n",
        "    right_most_y = data_y[-1]\n",
        "    ax.annotate(\n",
        "        legend_label[n],\n",
        "        xy=(right_most_x, right_most_y),\n",
        "        xytext=(5, 0),\n",
        "        textcoords=\"offset points\",\n",
        "        va=\"center\",\n",
        "        color=line.get_color(),\n",
        "    )\n",
        "    n += 1    \n",
        "\n",
        "ax.set_xlabel('Escolaridade', fontsize=13,labelpad=12)\n",
        "ax.set_ylabel('Quantidade', fontsize=13,labelpad=12)\n",
        "ax.set_xticklabels(['','Menor que 9ª ano','','9-12º ano','','Ensino médio','','Ensino superior incompleto','','Superior completo ou maior'],rotation=15,fontsize=13)\n",
        "\n",
        "ax.set_xlim(0.9,5.2)\n",
        "ax.tick_params(bottom=False)\n",
        "ax.grid(False)\n",
        "fig.tight_layout()\n",
        "sns.despine()\n",
        "plt.show()"
      ],
      "metadata": {
        "id": "dceoNfHbomXr",
        "colab": {
          "base_uri": "https://localhost:8080/",
          "height": 477
        },
        "outputId": "dcec6b23-f221-479d-b45f-ea0d488476ab"
      },
      "execution_count": null,
      "outputs": [
        {
          "output_type": "display_data",
          "data": {
            "text/plain": [
              "<Figure size 720x432 with 1 Axes>"
            ],
            "image/png": "[encoded data removed]"
          },
          "metadata": {
            "needs_background": "light"
          }
        }
      ]
    },
    {
      "cell_type": "markdown",
      "source": [
        "Ao analisar a 'escolaridade' por 'gênero' das pessoas com algum 'sintoma', observa-se que a maioria das 'mulheres' tem 'ensino superior incompleto' em ambos os sintomas. Já nos 'homens' está bem dividido entre 'ensino médio' e 'ensino superior incompleto'. Nota-se que a quantidade de homens com 'sintomas leves' que possuem até o '9º ano' é maior que as mulheres, e também que em ambos os gêneros que possuem 'superior completo ou menor' a incidencia de algum sintoma diminui consideravelmente."
      ],
      "metadata": {
        "id": "2HNux1goAf5C"
      }
    },
    {
      "cell_type": "code",
      "source": [
        "#-Sintomas de Depressão por Idade x Renda\n",
        "df_sint=df[(df['SINTOMAS'] != 0)]\n",
        "fig,(ax)= plt.subplots(ncols=1,figsize=(18,6))\n",
        "fig.suptitle('Sintomas de Depressão por Idade X Renda',y=1.06,fontsize=20)\n",
        "\n",
        "sns.boxplot(x=\"RENDA\", y=\"IDADE\", hue='SINTOMAS', data=df, linewidth=2.0, ax=ax)\n",
        "\n",
        "\n",
        "ax.set_xlabel('Renda(k)', fontsize=13,labelpad=12)\n",
        "ax.set_ylabel('Idade', fontsize=13,labelpad=12)\n",
        "legend_label = ['Sem sintomas','Sintomas leves','Sintomas moderados ou severos']\n",
        "ax.legend(loc='upper center',ncol=3, bbox_to_anchor=(0.5, 1.3),fancybox=True, shadow=True, fontsize=12)\n",
        "\n",
        "n = 0\n",
        "for i in legend_label:\n",
        "    ax.legend_.texts[n].set_text(i)\n",
        "    n += 1\n",
        "\n",
        "ax.grid(False)\n",
        "fig.tight_layout()\n",
        "sns.despine()\n",
        "fig.show()"
      ],
      "metadata": {
        "colab": {
          "base_uri": "https://localhost:8080/",
          "height": 367
        },
        "id": "WR0PGVf7jHsw",
        "outputId": "9639a4a3-70f2-4107-e890-248387861d07"
      },
      "execution_count": null,
      "outputs": [
        {
          "output_type": "display_data",
          "data": {
            "text/plain": [
              "<Figure size 1296x432 with 1 Axes>"
            ],
            "image/png": "[encoded data removed]"
          },
          "metadata": {
            "needs_background": "light"
          }
        }
      ]
    },
    {
      "cell_type": "markdown",
      "source": [
        "Já ao analisar 'renda' por 'idade', nota-se que acima da média que é 42k dólares, a incidencia de alguns sintomas em pessoas mais velhas diminui. Já os que recebem na faixa de 2.5K dólares estão entre os que possuem mais pessoas com sintomas do que sem. E olhando a outra ponta podemos dizer que acima da faxia de 90k dólares metade das pessoas possuem algum sintoma."
      ],
      "metadata": {
        "id": "dV7zlZV5AhPc"
      }
    },
    {
      "cell_type": "markdown",
      "source": [
        "# Teste de Hipóteses"
      ],
      "metadata": {
        "id": "IrECmXJ_oqqI"
      }
    },
    {
      "cell_type": "markdown",
      "source": [
        "Hipótese: A Renda é relevante na frequencia dos grupos de sintomas?\n",
        "\n",
        "H0: Renda e Grupo de Sintomas são independentes\n",
        "\n",
        "H1: Renda e Grupo de Sintomas não são independentes\n"
      ],
      "metadata": {
        "id": "0DivyPSJ86qT"
      }
    },
    {
      "cell_type": "code",
      "source": [
        "#-Teste qui-quadrado de independência\n",
        "tab = pd.crosstab(df['RENDA'],\n",
        "                 df['SINTOMAS'])\n",
        "\n",
        "stat, p, dof, expected = chi2_contingency(tab)\n",
        "\n",
        "print('stat=%.6f, p=%.6f' % (stat, p))"
      ],
      "metadata": {
        "id": "-H9CRgRJIz3Z",
        "colab": {
          "base_uri": "https://localhost:8080/"
        },
        "outputId": "7b2a3878-cfab-4a65-e2c4-0a11d2631a64"
      },
      "execution_count": null,
      "outputs": [
        {
          "output_type": "stream",
          "name": "stdout",
          "text": [
            "stat=151.429118, p=0.000000\n"
          ]
        }
      ]
    },
    {
      "cell_type": "markdown",
      "source": [
        "Com o p-valor igual a 0 podemos rejeitar a hipotese nula, pois há 0% de chance de que a tendência tenha ocorrido por acaso."
      ],
      "metadata": {
        "id": "yP3qoUDe-kV0"
      }
    },
    {
      "cell_type": "code",
      "source": [
        "#-Correlação entre as variaveis\n",
        "df.corr().round(3)"
      ],
      "metadata": {
        "id": "ovAK7G4RCFm5",
        "colab": {
          "base_uri": "https://localhost:8080/",
          "height": 268
        },
        "outputId": "5e5a00a6-9e15-4d25-b90e-42e8cbff4826"
      },
      "execution_count": null,
      "outputs": [
        {
          "output_type": "execute_result",
          "data": {
            "text/plain": [
              "              GENERO  IDADE  ETNIA  ESCOLARIDADE  RENDA  TOTAL  SINTOMAS\n",
              "GENERO         1.000 -0.059  0.002         0.056 -0.027  0.110     0.079\n",
              "IDADE         -0.059  1.000  0.066        -0.054 -0.016 -0.038    -0.024\n",
              "ETNIA          0.002  0.066  1.000         0.293  0.086  0.008     0.014\n",
              "ESCOLARIDADE   0.056 -0.054  0.293         1.000  0.382 -0.084    -0.091\n",
              "RENDA         -0.027 -0.016  0.086         0.382  1.000 -0.140    -0.130\n",
              "TOTAL          0.110 -0.038  0.008        -0.084 -0.140  1.000     0.905\n",
              "SINTOMAS       0.079 -0.024  0.014        -0.091 -0.130  0.905     1.000"
            ],
            "text/html": [
              "\n",
              "  <div id=\"df-cf04d7a8-f40b-4f2e-be32-8722213440ae\">\n",
              "    <div class=\"colab-df-container\">\n",
              "      <div>\n",
              "<style scoped>\n",
              "    .dataframe tbody tr th:only-of-type {\n",
              "        vertical-align: middle;\n",
              "    }\n",
              "\n",
              "    .dataframe tbody tr th {\n",
              "        vertical-align: top;\n",
              "    }\n",
              "\n",
              "    .dataframe thead th {\n",
              "        text-align: right;\n",
              "    }\n",
              "</style>\n",
              "<table border=\"1\" class=\"dataframe\">\n",
              "  <thead>\n",
              "    <tr style=\"text-align: right;\">\n",
              "      <th></th>\n",
              "      <th>GENERO</th>\n",
              "      <th>IDADE</th>\n",
              "      <th>ETNIA</th>\n",
              "      <th>ESCOLARIDADE</th>\n",
              "      <th>RENDA</th>\n",
              "      <th>TOTAL</th>\n",
              "      <th>SINTOMAS</th>\n",
              "    </tr>\n",
              "  </thead>\n",
              "  <tbody>\n",
              "    <tr>\n",
              "      <th>GENERO</th>\n",
              "      <td>1.000</td>\n",
              "      <td>-0.059</td>\n",
              "      <td>0.002</td>\n",
              "      <td>0.056</td>\n",
              "      <td>-0.027</td>\n",
              "      <td>0.110</td>\n",
              "      <td>0.079</td>\n",
              "    </tr>\n",
              "    <tr>\n",
              "      <th>IDADE</th>\n",
              "      <td>-0.059</td>\n",
              "      <td>1.000</td>\n",
              "      <td>0.066</td>\n",
              "      <td>-0.054</td>\n",
              "      <td>-0.016</td>\n",
              "      <td>-0.038</td>\n",
              "      <td>-0.024</td>\n",
              "    </tr>\n",
              "    <tr>\n",
              "      <th>ETNIA</th>\n",
              "      <td>0.002</td>\n",
              "      <td>0.066</td>\n",
              "      <td>1.000</td>\n",
              "      <td>0.293</td>\n",
              "      <td>0.086</td>\n",
              "      <td>0.008</td>\n",
              "      <td>0.014</td>\n",
              "    </tr>\n",
              "    <tr>\n",
              "      <th>ESCOLARIDADE</th>\n",
              "      <td>0.056</td>\n",
              "      <td>-0.054</td>\n",
              "      <td>0.293</td>\n",
              "      <td>1.000</td>\n",
              "      <td>0.382</td>\n",
              "      <td>-0.084</td>\n",
              "      <td>-0.091</td>\n",
              "    </tr>\n",
              "    <tr>\n",
              "      <th>RENDA</th>\n",
              "      <td>-0.027</td>\n",
              "      <td>-0.016</td>\n",
              "      <td>0.086</td>\n",
              "      <td>0.382</td>\n",
              "      <td>1.000</td>\n",
              "      <td>-0.140</td>\n",
              "      <td>-0.130</td>\n",
              "    </tr>\n",
              "    <tr>\n",
              "      <th>TOTAL</th>\n",
              "      <td>0.110</td>\n",
              "      <td>-0.038</td>\n",
              "      <td>0.008</td>\n",
              "      <td>-0.084</td>\n",
              "      <td>-0.140</td>\n",
              "      <td>1.000</td>\n",
              "      <td>0.905</td>\n",
              "    </tr>\n",
              "    <tr>\n",
              "      <th>SINTOMAS</th>\n",
              "      <td>0.079</td>\n",
              "      <td>-0.024</td>\n",
              "      <td>0.014</td>\n",
              "      <td>-0.091</td>\n",
              "      <td>-0.130</td>\n",
              "      <td>0.905</td>\n",
              "      <td>1.000</td>\n",
              "    </tr>\n",
              "  </tbody>\n",
              "</table>\n",
              "</div>\n",
              "      <button class=\"colab-df-convert\" onclick=\"convertToInteractive('df-cf04d7a8-f40b-4f2e-be32-8722213440ae')\"\n",
              "              title=\"Convert this dataframe to an interactive table.\"\n",
              "              style=\"display:none;\">\n",
              "        \n",
              "  <svg xmlns=\"http://www.w3.org/2000/svg\" height=\"24px\"viewBox=\"0 0 24 24\"\n",
              "       width=\"24px\">\n",
              "    <path d=\"M0 0h24v24H0V0z\" fill=\"none\"/>\n",
              "    <path d=\"M18.56 5.44l.94 2.06.94-2.06 2.06-.94-2.06-.94-.94-2.06-.94 2.06-2.06.94zm-11 1L8.5 8.5l.94-2.06 2.06-.94-2.06-.94L8.5 2.5l-.94 2.06-2.06.94zm10 10l.94 2.06.94-2.06 2.06-.94-2.06-.94-.94-2.06-.94 2.06-2.06.94z\"/><path d=\"M17.41 7.96l-1.37-1.37c-.4-.4-.92-.59-1.43-.59-.52 0-1.04.2-1.43.59L10.3 9.45l-7.72 7.72c-.78.78-.78 2.05 0 2.83L4 21.41c.39.39.9.59 1.41.59.51 0 1.02-.2 1.41-.59l7.78-7.78 2.81-2.81c.8-.78.8-2.07 0-2.86zM5.41 20L4 18.59l7.72-7.72 1.47 1.35L5.41 20z\"/>\n",
              "  </svg>\n",
              "      </button>\n",
              "      \n",
              "  <style>\n",
              "    .colab-df-container {\n",
              "      display:flex;\n",
              "      flex-wrap:wrap;\n",
              "      gap: 12px;\n",
              "    }\n",
              "\n",
              "    .colab-df-convert {\n",
              "      background-color: #E8F0FE;\n",
              "      border: none;\n",
              "      border-radius: 50%;\n",
              "      cursor: pointer;\n",
              "      display: none;\n",
              "      fill: #1967D2;\n",
              "      height: 32px;\n",
              "      padding: 0 0 0 0;\n",
              "      width: 32px;\n",
              "    }\n",
              "\n",
              "    .colab-df-convert:hover {\n",
              "      background-color: #E2EBFA;\n",
              "      box-shadow: 0px 1px 2px rgba(60, 64, 67, 0.3), 0px 1px 3px 1px rgba(60, 64, 67, 0.15);\n",
              "      fill: #174EA6;\n",
              "    }\n",
              "\n",
              "    [theme=dark] .colab-df-convert {\n",
              "      background-color: #3B4455;\n",
              "      fill: #D2E3FC;\n",
              "    }\n",
              "\n",
              "    [theme=dark] .colab-df-convert:hover {\n",
              "      background-color: #434B5C;\n",
              "      box-shadow: 0px 1px 3px 1px rgba(0, 0, 0, 0.15);\n",
              "      filter: drop-shadow(0px 1px 2px rgba(0, 0, 0, 0.3));\n",
              "      fill: #FFFFFF;\n",
              "    }\n",
              "  </style>\n",
              "\n",
              "      <script>\n",
              "        const buttonEl =\n",
              "          document.querySelector('#df-cf04d7a8-f40b-4f2e-be32-8722213440ae button.colab-df-convert');\n",
              "        buttonEl.style.display =\n",
              "          google.colab.kernel.accessAllowed ? 'block' : 'none';\n",
              "\n",
              "        async function convertToInteractive(key) {\n",
              "          const element = document.querySelector('#df-cf04d7a8-f40b-4f2e-be32-8722213440ae');\n",
              "          const dataTable =\n",
              "            await google.colab.kernel.invokeFunction('convertToInteractive',\n",
              "                                                     [key], {});\n",
              "          if (!dataTable) return;\n",
              "\n",
              "          const docLinkHtml = 'Like what you see? Visit the ' +\n",
              "            '<a target=\"_blank\" href=https://colab.research.google.com/notebooks/data_table.ipynb>data table notebook</a>'\n",
              "            + ' to learn more about interactive tables.';\n",
              "          element.innerHTML = '';\n",
              "          dataTable['output_type'] = 'display_data';\n",
              "          await google.colab.output.renderOutput(dataTable, element);\n",
              "          const docLink = document.createElement('div');\n",
              "          docLink.innerHTML = docLinkHtml;\n",
              "          element.appendChild(docLink);\n",
              "        }\n",
              "      </script>\n",
              "    </div>\n",
              "  </div>\n",
              "  "
            ]
          },
          "metadata": {},
          "execution_count": 76
        }
      ]
    },
    {
      "cell_type": "markdown",
      "source": [
        "Na correlação entre as variaveis nota-se que a Renda tem a maior porcentagem sob os Sintomas, mesmo ela sendo uma correlação negativa."
      ],
      "metadata": {
        "id": "zH1IRoAaFoKS"
      }
    },
    {
      "cell_type": "code",
      "source": [
        "tab = pd.crosstab(df['IDADE'],\n",
        "                 df['SINTOMAS'])\n",
        "\n",
        "stat, p, dof, expected = chi2_contingency(tab)\n",
        "\n",
        "print('stat=%.6f, p=%.6f' % (stat, p))"
      ],
      "metadata": {
        "colab": {
          "base_uri": "https://localhost:8080/"
        },
        "id": "2aXodZWQ-i7q",
        "outputId": "ab7d9a54-cdba-4b35-e719-44daeef46a22"
      },
      "execution_count": null,
      "outputs": [
        {
          "output_type": "stream",
          "name": "stdout",
          "text": [
            "stat=153.572343, p=0.118577\n"
          ]
        }
      ]
    },
    {
      "cell_type": "markdown",
      "source": [
        "Fazendo o teste de hipotéses para as demais variaveis, apenas a Idade ficou acima de 10%, então para esta variável não rejeitamos a hipótese nula."
      ],
      "metadata": {
        "id": "qmSfSz81IFDj"
      }
    },
    {
      "cell_type": "markdown",
      "source": [
        "# Com base na amostra podemos dizer que mulheres com menor renda, menos estudo e que fazem parte da minoria étnica dos EUA, são as mais suscetíveis a algum sintoma de depressão."
      ],
      "metadata": {
        "id": "L15WXmJm9ElH"
      }
    },
    {
      "cell_type": "code",
      "source": [
        ""
      ],
      "metadata": {
        "id": "rfPDOApX9HYX"
      },
      "execution_count": null,
      "outputs": []
    }
  ],
  "metadata": {
    "colab": {
      "name": "DESAFIO_POS_JAIANE.ipynb",
      "provenance": [],
      "collapsed_sections": [],
      "include_colab_link": true
    },
    "kernelspec": {
      "display_name": "Python 3",
      "language": "python",
      "name": "python3"
    },
    "language_info": {
      "codemirror_mode": {
        "name": "ipython",
        "version": 3
      },
      "file_extension": ".py",
      "mimetype": "text/x-python",
      "name": "python",
      "nbconvert_exporter": "python",
      "pygments_lexer": "ipython3",
      "version": "3.8.8"
    }
  },
  "nbformat": 4,
  "nbformat_minor": 0
}